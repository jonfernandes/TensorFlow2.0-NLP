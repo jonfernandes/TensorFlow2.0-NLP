{
  "nbformat": 4,
  "nbformat_minor": 0,
  "metadata": {
    "colab": {
      "name": "TF2.0  Determine number of parameters for NLP models.ipynb",
      "provenance": [],
      "collapsed_sections": []
    },
    "kernelspec": {
      "name": "python3",
      "display_name": "Python 3"
    },
    "language_info": {
      "name": "python"
    }
  },
  "cells": [
    {
      "cell_type": "markdown",
      "metadata": {
        "id": "lXkCf9hKXkIl"
      },
      "source": [
        "# Determine the number of parameters for NLP models"
      ]
    },
    {
      "cell_type": "markdown",
      "metadata": {
        "id": "z7ZZ2c26XgJk"
      },
      "source": [
        "[![Open In Colab](https://colab.research.google.com/assets/colab-badge.svg)](https://colab.research.google.com/drive/1BHVSQUdSdHxr-G-rlKk3JS7FupALufyn?usp=sharing)"
      ]
    },
    {
      "cell_type": "code",
      "metadata": {
        "id": "sIea7CKmuTYB"
      },
      "source": [
        "!pip install transformers"
      ],
      "execution_count": null,
      "outputs": []
    },
    {
      "cell_type": "code",
      "metadata": {
        "id": "AaHc9qEnyUT-"
      },
      "source": [
        "from transformers import TFAutoModel, AutoTokenizer\n",
        "\n",
        "def get_model_size(checkpoint='bert-base-cased'):\n",
        "  '''For use with NLP models only\n",
        "  Usage: \n",
        "      checkpoint - the NLP model\n",
        "      returns the size of the NLP model you want to determine\n",
        "  Run this on colab.research.google.com as this downloads the model \n",
        "  before calculating the number of parameters.    \n",
        "  '''\n",
        "  \n",
        "  model = TFAutoModel.from_pretrained(checkpoint)\n",
        "  tokenizer = AutoTokenizer.from_pretrained(checkpoint)\n",
        "  model.summary()\n",
        "\n",
        "get_model_size('bert-base-cased')\n",
        "#get_model_size('bert-large-uncased')\n",
        "#get_model_size('gpt2-medium')\n",
        "#get_model_size('gpt2-xl')\n"
      ],
      "execution_count": null,
      "outputs": []
    },
    {
      "cell_type": "markdown",
      "metadata": {
        "id": "jjHi2W4wOHAd"
      },
      "source": [
        "Go to https://huggingface.co/transformers/v3.3.1/pretrained_models.html. \n",
        "\n"
      ]
    },
    {
      "cell_type": "markdown",
      "metadata": {
        "id": "JogJ0XvxlEgo"
      },
      "source": [
        "## Review questions"
      ]
    },
    {
      "cell_type": "markdown",
      "metadata": {
        "id": "qBQgTyn8iUVF"
      },
      "source": [
        "- What is a pretrained model?"
      ]
    },
    {
      "cell_type": "markdown",
      "metadata": {
        "id": "172gNtrpkkBJ"
      },
      "source": [
        "Answer:"
      ]
    },
    {
      "cell_type": "markdown",
      "metadata": {
        "id": "kw3pV803iUSg"
      },
      "source": [
        "- What is the smallest model available on the hub?"
      ]
    },
    {
      "cell_type": "markdown",
      "metadata": {
        "id": "5VfKT2fRksGB"
      },
      "source": [
        "Answer:"
      ]
    },
    {
      "cell_type": "markdown",
      "metadata": {
        "id": "oSWXOZ1niUQA"
      },
      "source": [
        "- What is the largest model available on the hub?"
      ]
    },
    {
      "cell_type": "markdown",
      "metadata": {
        "id": "DG7bjkuDk816"
      },
      "source": [
        "Answer:"
      ]
    },
    {
      "cell_type": "markdown",
      "metadata": {
        "id": "B1b9FVMKkMgB"
      },
      "source": [
        "- What is the largest model that you can run on Google colab?"
      ]
    },
    {
      "cell_type": "markdown",
      "metadata": {
        "id": "fyLP7yo6kr97"
      },
      "source": [
        "Answer:"
      ]
    },
    {
      "cell_type": "markdown",
      "metadata": {
        "id": "Aojf2s-SiUNj"
      },
      "source": [
        "- What kind of task does the model ALBERT perform?"
      ]
    },
    {
      "cell_type": "markdown",
      "metadata": {
        "id": "XJddR4kXksZB"
      },
      "source": [
        "Answer:"
      ]
    },
    {
      "cell_type": "markdown",
      "metadata": {
        "id": "mCydywYuiULR"
      },
      "source": [
        "- A language model needs labels for pre-training (True or False)?"
      ]
    },
    {
      "cell_type": "markdown",
      "metadata": {
        "id": "0V0eoUoukrma"
      },
      "source": [
        "Answer:"
      ]
    },
    {
      "cell_type": "markdown",
      "metadata": {
        "id": "OtNWDdGYiUIU"
      },
      "source": [
        "- Give examples of 3 NLP tasks"
      ]
    },
    {
      "cell_type": "code",
      "metadata": {
        "id": "Q2AdQyElP2yv"
      },
      "source": [
        ""
      ],
      "execution_count": null,
      "outputs": []
    }
  ]
}