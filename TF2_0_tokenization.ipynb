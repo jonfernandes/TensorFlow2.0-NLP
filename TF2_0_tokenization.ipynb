{
  "nbformat": 4,
  "nbformat_minor": 0,
  "metadata": {
    "colab": {
      "name": "TF2.0 tokenization.ipynb",
      "provenance": [],
      "collapsed_sections": []
    },
    "kernelspec": {
      "name": "python3",
      "display_name": "Python 3"
    },
    "language_info": {
      "name": "python"
    }
  },
  "cells": [
    {
      "cell_type": "code",
      "metadata": {
        "colab": {
          "base_uri": "https://localhost:8080/"
        },
        "id": "8iTVLUeXh9Bc",
        "outputId": "6a5506b4-e13c-4206-f1f1-82018da67cae"
      },
      "source": [
        "!pip install transformers"
      ],
      "execution_count": 1,
      "outputs": [
        {
          "output_type": "stream",
          "name": "stdout",
          "text": [
            "Requirement already satisfied: transformers in /usr/local/lib/python3.7/dist-packages (4.11.3)\n",
            "Requirement already satisfied: numpy>=1.17 in /usr/local/lib/python3.7/dist-packages (from transformers) (1.19.5)\n",
            "Requirement already satisfied: huggingface-hub>=0.0.17 in /usr/local/lib/python3.7/dist-packages (from transformers) (0.0.19)\n",
            "Requirement already satisfied: sacremoses in /usr/local/lib/python3.7/dist-packages (from transformers) (0.0.46)\n",
            "Requirement already satisfied: requests in /usr/local/lib/python3.7/dist-packages (from transformers) (2.23.0)\n",
            "Requirement already satisfied: tokenizers<0.11,>=0.10.1 in /usr/local/lib/python3.7/dist-packages (from transformers) (0.10.3)\n",
            "Requirement already satisfied: filelock in /usr/local/lib/python3.7/dist-packages (from transformers) (3.3.0)\n",
            "Requirement already satisfied: tqdm>=4.27 in /usr/local/lib/python3.7/dist-packages (from transformers) (4.62.3)\n",
            "Requirement already satisfied: pyyaml>=5.1 in /usr/local/lib/python3.7/dist-packages (from transformers) (6.0)\n",
            "Requirement already satisfied: packaging>=20.0 in /usr/local/lib/python3.7/dist-packages (from transformers) (21.0)\n",
            "Requirement already satisfied: regex!=2019.12.17 in /usr/local/lib/python3.7/dist-packages (from transformers) (2019.12.20)\n",
            "Requirement already satisfied: importlib-metadata in /usr/local/lib/python3.7/dist-packages (from transformers) (4.8.1)\n",
            "Requirement already satisfied: typing-extensions in /usr/local/lib/python3.7/dist-packages (from huggingface-hub>=0.0.17->transformers) (3.7.4.3)\n",
            "Requirement already satisfied: pyparsing>=2.0.2 in /usr/local/lib/python3.7/dist-packages (from packaging>=20.0->transformers) (2.4.7)\n",
            "Requirement already satisfied: zipp>=0.5 in /usr/local/lib/python3.7/dist-packages (from importlib-metadata->transformers) (3.6.0)\n",
            "Requirement already satisfied: urllib3!=1.25.0,!=1.25.1,<1.26,>=1.21.1 in /usr/local/lib/python3.7/dist-packages (from requests->transformers) (1.24.3)\n",
            "Requirement already satisfied: idna<3,>=2.5 in /usr/local/lib/python3.7/dist-packages (from requests->transformers) (2.10)\n",
            "Requirement already satisfied: certifi>=2017.4.17 in /usr/local/lib/python3.7/dist-packages (from requests->transformers) (2021.5.30)\n",
            "Requirement already satisfied: chardet<4,>=3.0.2 in /usr/local/lib/python3.7/dist-packages (from requests->transformers) (3.0.4)\n",
            "Requirement already satisfied: click in /usr/local/lib/python3.7/dist-packages (from sacremoses->transformers) (7.1.2)\n",
            "Requirement already satisfied: joblib in /usr/local/lib/python3.7/dist-packages (from sacremoses->transformers) (1.0.1)\n",
            "Requirement already satisfied: six in /usr/local/lib/python3.7/dist-packages (from sacremoses->transformers) (1.15.0)\n"
          ]
        }
      ]
    },
    {
      "cell_type": "markdown",
      "metadata": {
        "id": "mikzjvyUiHyf"
      },
      "source": [
        "**Handling out-of-vocab words**"
      ]
    },
    {
      "cell_type": "code",
      "metadata": {
        "id": "08oTTR6ziEDE"
      },
      "source": [
        "from transformers import AutoTokenizer"
      ],
      "execution_count": 2,
      "outputs": []
    },
    {
      "cell_type": "code",
      "metadata": {
        "colab": {
          "base_uri": "https://localhost:8080/"
        },
        "id": "I1Oy4-m5iuKF",
        "outputId": "a212055c-42d5-4749-fc59-6d8ca07061d3"
      },
      "source": [
        "checkpoint = 'bert-base-cased'\n",
        "sentence = 'Transformers are supercalifragilisticexpialidocious.'\n",
        "tokenizer = AutoTokenizer.from_pretrained(checkpoint)\n",
        "tokens = tokenizer.tokenize(sentence)\n",
        "tokens"
      ],
      "execution_count": 3,
      "outputs": [
        {
          "output_type": "execute_result",
          "data": {
            "text/plain": [
              "['Transformers',\n",
              " 'are',\n",
              " 'super',\n",
              " '##cal',\n",
              " '##if',\n",
              " '##rag',\n",
              " '##ilis',\n",
              " '##tic',\n",
              " '##ex',\n",
              " '##pia',\n",
              " '##lid',\n",
              " '##oc',\n",
              " '##ious',\n",
              " '.']"
            ]
          },
          "metadata": {},
          "execution_count": 3
        }
      ]
    },
    {
      "cell_type": "markdown",
      "metadata": {
        "id": "tto8RilbnSdP"
      },
      "source": [
        "**Components of the tokenizer**"
      ]
    },
    {
      "cell_type": "code",
      "metadata": {
        "colab": {
          "base_uri": "https://localhost:8080/"
        },
        "id": "ZPaC0WdljE54",
        "outputId": "bbd6e362-6d3b-4ddc-87f0-f8428ca21053"
      },
      "source": [
        "tokenizer(sentence)"
      ],
      "execution_count": 4,
      "outputs": [
        {
          "output_type": "execute_result",
          "data": {
            "text/plain": [
              "{'input_ids': [101, 25267, 1132, 7688, 7867, 8914, 20484, 22279, 2941, 11708, 15748, 17299, 13335, 4179, 119, 102], 'token_type_ids': [0, 0, 0, 0, 0, 0, 0, 0, 0, 0, 0, 0, 0, 0, 0, 0], 'attention_mask': [1, 1, 1, 1, 1, 1, 1, 1, 1, 1, 1, 1, 1, 1, 1, 1]}"
            ]
          },
          "metadata": {},
          "execution_count": 4
        }
      ]
    },
    {
      "cell_type": "code",
      "metadata": {
        "colab": {
          "base_uri": "https://localhost:8080/"
        },
        "id": "3LRRz91FnOXT",
        "outputId": "1a6dd351-8011-4a59-b89c-f393a7af3cc4"
      },
      "source": [
        "tokenizer.convert_tokens_to_ids(tokens)"
      ],
      "execution_count": 5,
      "outputs": [
        {
          "output_type": "execute_result",
          "data": {
            "text/plain": [
              "[25267,\n",
              " 1132,\n",
              " 7688,\n",
              " 7867,\n",
              " 8914,\n",
              " 20484,\n",
              " 22279,\n",
              " 2941,\n",
              " 11708,\n",
              " 15748,\n",
              " 17299,\n",
              " 13335,\n",
              " 4179,\n",
              " 119]"
            ]
          },
          "metadata": {},
          "execution_count": 5
        }
      ]
    },
    {
      "cell_type": "code",
      "metadata": {
        "colab": {
          "base_uri": "https://localhost:8080/",
          "height": 35
        },
        "id": "NmRGR7ghnms-",
        "outputId": "479b1482-94c4-4ff0-f2ac-d4b198ac8765"
      },
      "source": [
        "tokenizer.decode([25267, 1132, 7688, 7867, 8914, 20484, 22279, 2941, 11708, 15748, 17299, 13335, 4179, 119])"
      ],
      "execution_count": 6,
      "outputs": [
        {
          "output_type": "execute_result",
          "data": {
            "application/vnd.google.colaboratory.intrinsic+json": {
              "type": "string"
            },
            "text/plain": [
              "'Transformers are supercalifragilisticexpialidocious.'"
            ]
          },
          "metadata": {},
          "execution_count": 6
        }
      ]
    },
    {
      "cell_type": "markdown",
      "metadata": {
        "id": "7V0haXTpzGTW"
      },
      "source": [
        "**Attention masks**"
      ]
    },
    {
      "cell_type": "markdown",
      "metadata": {
        "id": "taozIQNDzXx2"
      },
      "source": [
        "Tensors with the same shape as input IDs tensors, with 1s and 0s.\n",
        "- 1s indicate that the corresponding tokens should be attended to.\n",
        "- 0s mean that these tokens can be ignored."
      ]
    },
    {
      "cell_type": "markdown",
      "metadata": {
        "id": "DZ_vaMS53HLp"
      },
      "source": [
        "**Sequence lengths**"
      ]
    },
    {
      "cell_type": "markdown",
      "metadata": {
        "id": "zpeU3cZa3P1n"
      },
      "source": [
        "Most models support sequences of up to 512 or 1024 tokens. There are 2 ways to deal with it.\n",
        "- Truncate sequences when they exceed the supported number of tokens\n",
        "- Use a model that can support longer sequences"
      ]
    },
    {
      "cell_type": "code",
      "metadata": {
        "colab": {
          "base_uri": "https://localhost:8080/"
        },
        "id": "rIZbg103y3in",
        "outputId": "e0d97796-c407-4af5-bb98-4c6936858a13"
      },
      "source": [
        "inputs = tokenizer(sentence, padding=\"longest\")\n",
        "inputs"
      ],
      "execution_count": 7,
      "outputs": [
        {
          "output_type": "execute_result",
          "data": {
            "text/plain": [
              "{'input_ids': [101, 25267, 1132, 7688, 7867, 8914, 20484, 22279, 2941, 11708, 15748, 17299, 13335, 4179, 119, 102], 'token_type_ids': [0, 0, 0, 0, 0, 0, 0, 0, 0, 0, 0, 0, 0, 0, 0, 0], 'attention_mask': [1, 1, 1, 1, 1, 1, 1, 1, 1, 1, 1, 1, 1, 1, 1, 1]}"
            ]
          },
          "metadata": {},
          "execution_count": 7
        }
      ]
    },
    {
      "cell_type": "code",
      "metadata": {
        "colab": {
          "base_uri": "https://localhost:8080/"
        },
        "id": "Xx2m5_JM-CS1",
        "outputId": "993081b3-dcca-43f0-a2be-d24534290032"
      },
      "source": [
        "tokens = tokenizer.tokenize(sentence)\n",
        "tokens"
      ],
      "execution_count": 8,
      "outputs": [
        {
          "output_type": "execute_result",
          "data": {
            "text/plain": [
              "['Transformers',\n",
              " 'are',\n",
              " 'super',\n",
              " '##cal',\n",
              " '##if',\n",
              " '##rag',\n",
              " '##ilis',\n",
              " '##tic',\n",
              " '##ex',\n",
              " '##pia',\n",
              " '##lid',\n",
              " '##oc',\n",
              " '##ious',\n",
              " '.']"
            ]
          },
          "metadata": {},
          "execution_count": 8
        }
      ]
    },
    {
      "cell_type": "code",
      "metadata": {
        "colab": {
          "base_uri": "https://localhost:8080/"
        },
        "id": "i-JjB1sD-6hp",
        "outputId": "067f2d98-2e2e-444c-f6d9-14f8b121d1c4"
      },
      "source": [
        "ids = tokenizer.convert_tokens_to_ids(tokens)\n",
        "ids"
      ],
      "execution_count": 9,
      "outputs": [
        {
          "output_type": "execute_result",
          "data": {
            "text/plain": [
              "[25267,\n",
              " 1132,\n",
              " 7688,\n",
              " 7867,\n",
              " 8914,\n",
              " 20484,\n",
              " 22279,\n",
              " 2941,\n",
              " 11708,\n",
              " 15748,\n",
              " 17299,\n",
              " 13335,\n",
              " 4179,\n",
              " 119]"
            ]
          },
          "metadata": {},
          "execution_count": 9
        }
      ]
    },
    {
      "cell_type": "markdown",
      "metadata": {
        "id": "KvZuH5H2Ais5"
      },
      "source": [
        "**Special tokens**"
      ]
    },
    {
      "cell_type": "code",
      "metadata": {
        "colab": {
          "base_uri": "https://localhost:8080/",
          "height": 35
        },
        "id": "zIial2Fn_KWy",
        "outputId": "d2419567-5a94-4593-8d4a-5e8fdeca8d49"
      },
      "source": [
        "tokenizer.decode(inputs[\"input_ids\"])"
      ],
      "execution_count": 10,
      "outputs": [
        {
          "output_type": "execute_result",
          "data": {
            "application/vnd.google.colaboratory.intrinsic+json": {
              "type": "string"
            },
            "text/plain": [
              "'[CLS] Transformers are supercalifragilisticexpialidocious. [SEP]'"
            ]
          },
          "metadata": {},
          "execution_count": 10
        }
      ]
    },
    {
      "cell_type": "markdown",
      "metadata": {
        "id": "PN3jEFmP9eHI"
      },
      "source": [
        "**tokenizer to model**"
      ]
    },
    {
      "cell_type": "code",
      "metadata": {
        "colab": {
          "base_uri": "https://localhost:8080/"
        },
        "id": "8IvytC3f4ytX",
        "outputId": "ac7c1f12-9141-4588-93bc-935e23d3ca39"
      },
      "source": [
        "inputs = tokenizer(sentence, padding=True, return_tensors='pt')\n",
        "inputs"
      ],
      "execution_count": 11,
      "outputs": [
        {
          "output_type": "execute_result",
          "data": {
            "text/plain": [
              "{'input_ids': tensor([[  101, 25267,  1132,  7688,  7867,  8914, 20484, 22279,  2941, 11708,\n",
              "         15748, 17299, 13335,  4179,   119,   102]]), 'token_type_ids': tensor([[0, 0, 0, 0, 0, 0, 0, 0, 0, 0, 0, 0, 0, 0, 0, 0]]), 'attention_mask': tensor([[1, 1, 1, 1, 1, 1, 1, 1, 1, 1, 1, 1, 1, 1, 1, 1]])}"
            ]
          },
          "metadata": {},
          "execution_count": 11
        }
      ]
    },
    {
      "cell_type": "code",
      "metadata": {
        "colab": {
          "base_uri": "https://localhost:8080/"
        },
        "id": "xZhzDNnV50Ow",
        "outputId": "ab1a24ae-0145-49fd-ba7f-f0a092b34e5a"
      },
      "source": [
        "import torch\n",
        "from transformers import AutoTokenizer, AutoModelForSequenceClassification\n",
        "\n",
        "checkpoint = \"distilbert-base-uncased-finetuned-sst-2-english\"\n",
        "tokenizer = AutoTokenizer.from_pretrained(checkpoint)\n",
        "model = AutoModelForSequenceClassification.from_pretrained(checkpoint)\n",
        "sequences = ['Transformers are brilliant.',\n",
        "             'They have changed NLP forever']\n",
        "\n",
        "inputs = tokenizer(sequences, padding=True, truncation=True, return_tensors=\"pt\")\n",
        "output = model(**inputs)\n",
        "output"
      ],
      "execution_count": 12,
      "outputs": [
        {
          "output_type": "execute_result",
          "data": {
            "text/plain": [
              "SequenceClassifierOutput([('logits', tensor([[-4.2946,  4.6448],\n",
              "                                   [-3.1958,  3.2765]], grad_fn=<AddmmBackward>))])"
            ]
          },
          "metadata": {},
          "execution_count": 12
        }
      ]
    },
    {
      "cell_type": "code",
      "metadata": {
        "colab": {
          "base_uri": "https://localhost:8080/"
        },
        "id": "O53Me83z_7fD",
        "outputId": "191af8b9-5c78-4ece-a51c-949fd8968def"
      },
      "source": [
        "output.logits.shape"
      ],
      "execution_count": 13,
      "outputs": [
        {
          "output_type": "execute_result",
          "data": {
            "text/plain": [
              "torch.Size([2, 2])"
            ]
          },
          "metadata": {},
          "execution_count": 13
        }
      ]
    },
    {
      "cell_type": "code",
      "metadata": {
        "colab": {
          "base_uri": "https://localhost:8080/"
        },
        "id": "6WX_7BMI9mKg",
        "outputId": "d879bf2d-ac4d-4499-91f6-d543f184abfc"
      },
      "source": [
        "torch.nn.functional.softmax(output.logits, dim=-1)"
      ],
      "execution_count": 14,
      "outputs": [
        {
          "output_type": "execute_result",
          "data": {
            "text/plain": [
              "tensor([[1.3111e-04, 9.9987e-01],\n",
              "        [1.5433e-03, 9.9846e-01]], grad_fn=<SoftmaxBackward>)"
            ]
          },
          "metadata": {},
          "execution_count": 14
        }
      ]
    },
    {
      "cell_type": "code",
      "metadata": {
        "colab": {
          "base_uri": "https://localhost:8080/"
        },
        "id": "39v6Bx9w_gzn",
        "outputId": "06fc59f2-c96a-491b-a40c-581299783336"
      },
      "source": [
        "model.config.id2label"
      ],
      "execution_count": 15,
      "outputs": [
        {
          "output_type": "execute_result",
          "data": {
            "text/plain": [
              "{0: 'NEGATIVE', 1: 'POSITIVE'}"
            ]
          },
          "metadata": {},
          "execution_count": 15
        }
      ]
    }
  ]
}